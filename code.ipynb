{
 "cells": [
  {
   "cell_type": "code",
   "execution_count": 26,
   "id": "3c92ca39-93fc-481e-818b-2d8ecba732f5",
   "metadata": {},
   "outputs": [],
   "source": [
    "import pandas as pd\n",
    "import numpy as np\n",
    "from imblearn.over_sampling import SMOTE\n",
    "from sklearn.model_selection import train_test_split\n",
    "from sklearn.ensemble import RandomForestClassifier\n",
    "from sklearn.metrics import classification_report, confusion_matrix\n",
    "import matplotlib.pyplot as plt\n",
    "import seaborn as sns"
   ]
  },
  {
   "cell_type": "code",
   "execution_count": null,
   "id": "ec53c22d-f9b9-4500-a748-4bca7a2a41e2",
   "metadata": {},
   "outputs": [],
   "source": [
    "# Load the dataset\n",
    "dataset_path = 'dataset.csv'  # Adjust path if necessary\n",
    "data = pd.read_csv(dataset_path)"
   ]
  },
  {
   "cell_type": "code",
   "execution_count": null,
   "id": "83f846fd-0535-4224-8da6-a28f88185126",
   "metadata": {},
   "outputs": [],
   "source": [
    "# Data Preprocessing\n",
    "# Fill missing 'bmi' values with the median, and 'smoking_status' with 'Unknown'\n",
    "data['bmi'] = data['bmi'].fillna(data['bmi'].median())\n",
    "data['smoking_status'] = data['smoking_status'].fillna('Unknown')"
   ]
  },
  {
   "cell_type": "code",
   "execution_count": null,
   "id": "4acd5250-87c6-4186-ae39-2c5003099bf0",
   "metadata": {},
   "outputs": [],
   "source": [
    "# Encode categorical features\n",
    "data_encoded = pd.get_dummies(data, columns=['gender', 'ever_married', 'work_type', 'Residence_type', 'smoking_status'], drop_first=True)\n",
    "\n",
    "# Fill any remaining missing values in the encoded data\n",
    "data_encoded = data_encoded.fillna(data_encoded.median(numeric_only=True))"
   ]
  },
  {
   "cell_type": "code",
   "execution_count": null,
   "id": "76661e92-c3c1-4c80-bf1b-8b1d456b7753",
   "metadata": {},
   "outputs": [],
   "source": [
    "# Separate features and target variable\n",
    "X = data_encoded.drop(['id', 'stroke'], axis=1)\n",
    "y = data_encoded['stroke']\n",
    "\n",
    "# Split data into training and testing sets\n",
    "X_train, X_test, y_train, y_test = train_test_split(X, y, test_size=0.2, random_state=42)\n",
    "\n",
    "# Check and fill any remaining NaN values in X_train before applying SMOTE\n",
    "X_train = X_train.fillna(X_train.median(numeric_only=True))\n",
    "\n",
    "# Apply SMOTE to balance the classes in the training set\n",
    "smote = SMOTE(random_state=42)\n",
    "X_train_balanced, y_train_balanced = smote.fit_resample(X_train, y_train)\n",
    "\n",
    "# Train a Random Forest Classifier\n",
    "model = RandomForestClassifier(random_state=42)\n",
    "model.fit(X_train_balanced, y_train_balanced)\n",
    "\n",
    "# Predict on the test set\n",
    "y_pred = model.predict(X_test)"
   ]
  },
  {
   "cell_type": "code",
   "execution_count": null,
   "id": "6ff5000e-d1bc-4f1f-939b-eb8fea244984",
   "metadata": {},
   "outputs": [],
   "source": [
    "# Evaluation metrics\n",
    "classification_rep = classification_report(y_test, y_pred)\n",
    "conf_matrix = confusion_matrix(y_test, y_pred)\n",
    "print(conf_matrix)\n"
   ]
  },
  {
   "cell_type": "code",
   "execution_count": null,
   "id": "c0e74e1d-2591-44ce-9c3a-6d6c80a9f05a",
   "metadata": {},
   "outputs": [],
   "source": [
    "# Display Classification Report\n",
    "print(\"Classification Report:\\n\", classification_rep)\n"
   ]
  },
  {
   "cell_type": "code",
   "execution_count": null,
   "id": "72a02fc7-97ba-4b2b-b371-ae30e1d327a8",
   "metadata": {},
   "outputs": [],
   "source": [
    "# Visualization of the confusion matrix\n",
    "plt.figure(figsize=(8, 6))\n",
    "sns.heatmap(conf_matrix, annot=True, fmt='d', cmap='Blues', xticklabels=['No Stroke', 'Stroke'], yticklabels=['No Stroke', 'Stroke'])\n",
    "plt.xlabel('Predicted')\n",
    "plt.ylabel('Actual')\n",
    "plt.title('Confusion Matrix for Stroke Prediction with SMOTE')\n",
    "plt.show()"
   ]
  },
  {
   "cell_type": "code",
   "execution_count": null,
   "id": "949233d0-c1e4-47c9-9ffb-2270db91e262",
   "metadata": {},
   "outputs": [],
   "source": [
    "# Feature importance visualization\n",
    "feature_importances = pd.Series(model.feature_importances_, index=X.columns)\n",
    "feature_importances.nlargest(10).plot(kind='barh')\n",
    "plt.title('Top 10 Feature Importances')\n",
    "plt.show()"
   ]
  },
  {
   "cell_type": "code",
   "execution_count": null,
   "id": "1df289dd-2424-4d7f-b030-53ee758ce41e",
   "metadata": {},
   "outputs": [],
   "source": [
    "# Example: Predicting stroke probability for new data\n",
    "# Sample input as a DataFrame with the same feature columns as X\n",
    "new_data = pd.DataFrame({\n",
    "    'age': [45],\n",
    "    'hypertension': [1],\n",
    "    'heart_disease': [0],\n",
    "    'avg_glucose_level': [105.3],\n",
    "    'bmi': [28.7],\n",
    "    # Dummy encoding similar to data_encoded\n",
    "    'gender_Male': [1],\n",
    "    'ever_married_Yes': [1],\n",
    "    'work_type_Self-employed': [0],\n",
    "    'work_type_Private': [1],\n",
    "    'work_type_Govt_job': [0],\n",
    "    'work_type_children': [0],\n",
    "    'Residence_type_Urban': [1],\n",
    "    'smoking_status_formerly smoked': [0],\n",
    "    'smoking_status_never smoked': [1],\n",
    "    'smoking_status_smokes': [0]\n",
    "})"
   ]
  },
  {
   "cell_type": "code",
   "execution_count": null,
   "id": "51ed9a0f-d577-46bb-b3dd-d74d8581a2af",
   "metadata": {},
   "outputs": [],
   "source": [
    "# Ensure new_data has only the columns that X has (fill missing columns if necessary)\n",
    "for col in X.columns:\n",
    "    if col not in new_data.columns:\n",
    "        new_data[col] = 0\n",
    "new_data = new_data[X.columns]  # Reorder columns\n",
    "\n",
    "# Predict stroke probability\n",
    "prediction = model.predict(new_data)\n",
    "print(\"Prediction for new data (1 = Stroke, 0 = No Stroke):\", prediction[0])"
   ]
  }
 ],
 "metadata": {
  "kernelspec": {
   "display_name": "Python 3 (ipykernel)",
   "language": "python",
   "name": "python3"
  },
  "language_info": {
   "codemirror_mode": {
    "name": "ipython",
    "version": 3
   },
   "file_extension": ".py",
   "mimetype": "text/x-python",
   "name": "python",
   "nbconvert_exporter": "python",
   "pygments_lexer": "ipython3",
   "version": "3.12.7"
  }
 },
 "nbformat": 4,
 "nbformat_minor": 5
}
